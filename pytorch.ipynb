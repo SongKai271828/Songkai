{
 "cells": [
  {
   "cell_type": "markdown",
   "metadata": {},
   "source": [
    "# Pytorch Tutorial"
   ]
  },
  {
   "cell_type": "markdown",
   "metadata": {},
   "source": [
    "Pytorch is a popular deep learning framework and it's easy to get started."
   ]
  },
  {
   "cell_type": "code",
   "execution_count": null,
   "metadata": {
    "collapsed": true
   },
   "outputs": [],
   "source": [
    "import torch\n",
    "import torch.nn as nn\n",
    "import torch.utils.data as data\n",
    "import torchvision\n",
    "import torchvision.transforms as transforms\n",
    "from tqdm import tqdm\n",
    "import time\n",
    "\n",
    "BATCH_SIZE = 128\n",
    "DEVICE = torch.device('cpu')\n",
    "NUM_EPOCHS = 10"
   ]
  },
  {
   "cell_type": "markdown",
   "metadata": {},
   "source": [
    "First, we read the mnist data, preprocess them and encapsulate them into dataloader form."
   ]
  },
  {
   "cell_type": "code",
   "execution_count": null,
   "metadata": {
    "collapsed": true
   },
   "outputs": [],
   "source": [
    "# preprocessing\n",
    "normalize = transforms.Normalize(mean=[.5], std=[.5])\n",
    "transform = transforms.Compose([transforms.ToTensor(), normalize])\n",
    "\n",
    "# download and load the data\n",
    "train_dataset = torchvision.datasets.MNIST(root='./mnist/', train=True, transform=transform, download=True)\n",
    "test_dataset = torchvision.datasets.MNIST(root='./mnist/', train=False, transform=transform, download=False)\n",
    "\n",
    "# encapsulate them into dataloader form\n",
    "train_loader = data.DataLoader(train_dataset, batch_size=BATCH_SIZE, shuffle=True, drop_last=True)\n",
    "test_loader = data.DataLoader(test_dataset, batch_size=BATCH_SIZE, shuffle=False, drop_last=True)"
   ]
  },
  {
   "cell_type": "markdown",
   "metadata": {},
   "source": [
    "Then, we define the model, object function and optimizer that we use to classify."
   ]
  },
  {
   "cell_type": "code",
   "execution_count": null,
   "metadata": {
    "collapsed": true
   },
   "outputs": [],
   "source": [
    "class SimpleNet(nn.Module):\n",
    "# TODO:define model\n",
    "   def __init__(self):\n",
    "       super().__init__()\n",
    "       self.conv1 = nn.Conv2d(1, 10, kernel_size=(6,6))\n",
    "       self.conv2 = nn.Conv2d(10, 20, kernel_size=(3,3))\n",
    "       self.linear1 = nn.Linear(20*10*10, 500)\n",
    "       self.linear2 = nn.Linear(500, 10)\n",
    "\n",
    "   def forward(self,batch)\n",
    "       batch_num = batch.size(0)\n",
    "       mid = self.conv1(batch)\n",
    "       mid = torch.nn.functional.relu(mid)\n",
    "       mid = torch.nn.functional.max_pool2d(mid, (2, 2))\n",
    "       mid = self.conv2(mid)\n",
    "       mid = torch.nn.functional.relu(mid)\n",
    "       mid = out.view(batch_num, -1)\n",
    "       mid = self.linear1(mid)\n",
    "       mid = torch.nn.functional.relu(mid)\n",
    "       mid = self.linear2(mid)\n",
    "       out = torch.nn.functional.log_softmax(mid, dim=1)\n",
    "       return out\n",
    "\n",
    "model = SimpleNet()\n",
    "\n",
    "# TODO:define loss function and optimiter\n",
    "criterion = torch.nn.function.nll_loss\n",
    "optimizer = torch.optim.Adam(model.parameters())"
   ]
  },
  {
   "cell_type": "markdown",
   "metadata": {},
   "source": [
    "Next, we can start to train and evaluate!"
   ]
  },
  {
   "cell_type": "code",
   "execution_count": null,
   "metadata": {
    "collapsed": true,
    "scrolled": true
   },
   "outputs": [],
   "source": [
    "# train and evaluate\n",
    "for epoch in range(NUM_EPOCHS):\n",
    "    print('epoch: ',epoch+1)\n",
    "    model.train()\n",
    "    for images, labels in tqdm(train_loader):\n",
    "        # TODO:forward + backward + optimize\n",
    "        images, labels = images.to(device), labels.to(device)\n",
    "        optimizer.zero_grad()\n",
    "        output = model(images)\n",
    "        loss = criterion(output, labels)\n",
    "        loss.backward()\n",
    "        optimizer.step()\n",
    "    \n",
    "    # evaluate\n",
    "    # TODO:calculate the accuracy using traning and testing dataset\n",
    "    model.exal()\n",
    "    test_loss = 0\n",
    "    correct_num_test = 0\n",
    "    train_loss = 0\n",
    "    correct_num_train = 0\n",
    "    with torch.no_grad():\n",
    "       for images, labels in tqdm(train_loader):\n",
    "           images, labels = images.to(device), labels.to(device)\n",
    "           output = model(data)\n",
    "           train_loss += F.nll_loss(output, labels, reduction='sum').item()\n",
    "           pred = output.max(1, keepdim=True)[1]\n",
    "           correct_num_train += pred.eq(labels.view_as(pred)).sum().item()\n",
    "    train_loss /= len(test_loader.dataset)\n",
    "    correct_rate = 100. * correct / len(train_loader.dataset)\n",
    "    print('Train Accuracy: ',correct_num_train,'/',len(train_loader.dataset),' (',correct_rate,'%)')\n",
    "    \n",
    "    with torch.no_grad():\n",
    "       for images, labels in tqdm(test_loader):\n",
    "           images, labels = images.to(device), labels.to(device)\n",
    "           output = model(data)\n",
    "           test_loss += F.nll_loss(output, labels, reduction='sum').item()\n",
    "           pred = output.max(1, keepdim=True)[1]\n",
    "           correct_num_test += pred.eq(labels.view_as(pred)).sum().item()\n",
    "    test_loss /= len(test_loader.dataset)\n",
    "    correct_rate = 100. * correct / len(test_loader.dataset)\n",
    "    print('Test Accuracy: ',correct_num_test,'/',len(test_loader.dataset),' (',correct_rate,'%)')\n"
   ]
  },
  {
   "cell_type": "markdown",
   "metadata": {},
   "source": [
    "#### Q5:\n",
    "Please print the training and testing accuracy."
   ]
  },
  {
   "cell_type": "code",
   "execution_count": null,
   "metadata": {
    "collapsed": true,
    "scrolled": true
   },
   "outputs": [],
   "source": [
    "epoch:  1\n",
    "Train Accuracy:  59591 / 60000  (96.43 %)\n",
    "Test Accuracy:  9863 / 10000  (96.67 %)\n",
    "epoch:  2\n",
    "Train Accuracy:  58982 / 60000  (98.30 %)\n",
    "Test Accuracy:  9828 / 10000  (98.28 %)\n",
    "epoch:  3\n",
    "Train Accuracy:  59320 / 60000  (98.87 %)\n",
    "Test Accuracy:  9862 / 10000  (98.62 %)\n",
    "epoch:  4\n",
    "Train Accuracy:  59376 / 60000  (98.96 %)\n",
    "Test Accuracy:  9860 / 10000  (98.6 %)\n",
    "epoch:  5\n",
    "Train Accuracy:  59446 / 60000  (99.08 %)\n",
    "Test Accuracy:  9875 / 10000  (98.75 %)\n",
    "epoch:  6\n",
    "Train Accuracy:  59591 / 60000  (99.32 %)\n",
    "Test Accuracy:  9863 / 10000  ( 98.63 %)\n",
    "epoch:  7\n",
    "Train Accuracy:  59774 / 60000  (99.62 %)\n",
    "Test Accuracy:  9882 / 10000  (98.82 %)\n",
    "epoch:  8\n",
    "Train Accuracy:  59815 / 60000  (99.69 %)\n",
    "Test Accuracy:  9891 / 10000  (98.91 %)\n",
    "epoch:  9\n",
    "Train Accuracy:  59854 / 60000  (99.72 %)\n",
    "Test Accuracy:  9884 / 10000  (98.84 %)\n",
    "epoch:  10\n",
    "Train Accuracy:  59912 / 60000  (99.85 %)\n",
    "Test Accuracy:  9901 / 10000  (99.01 %)\n",
    "epoch:  11\n",
    "Train Accuracy:  59827 / 60000  (99.71 %)\n",
    "Test Accuracy:  9889 / 10000  (98.89 %)\n",
    "epoch:  12\n",
    "Train Accuracy:  59866 / 60000  (99.78 %)\n",
    "Test Accuracy:  9888 / 10000  (98.88 %)\n",
    "epoch:  13\n",
    "Train Accuracy:  59943 / 60000  (99.91 %)\n",
    "Test Accuracy:  9903 / 10000  (99.03 %)\n",
    "epoch:  14\n",
    "Train Accuracy:  59971 / 60000  (99.95 %)\n",
    "Test Accuracy:  9911 / 10000  (99.11 %)\n",
    "epoch:  15\n",
    "Train Accuracy:  59966 / 60000  (99.94 %)\n",
    "Test Accuracy:  9902 / 10000  (99.02 %)\n",
    "epoch:  16\n",
    "Train Accuracy:  59944 / 60000  (99.91 %)\n",
    "Test Accuracy:  9904 / 10000  (99.04 %)\n",
    "epoch:  17\n",
    "Train Accuracy:  59949 / 60000  (99.92 %)\n",
    "Test Accuracy:  9900 / 10000  (99.0 %)\n",
    "epoch:  18\n",
    "Train Accuracy:  59947 / 60000  (99.91 %)\n",
    "Test Accuracy:  9904 / 10000  (99.04 %)\n",
    "epoch:  19\n",
    "Train Accuracy:  59985 / 60000  (99.98 %)\n",
    "Test Accuracy:  9907 / 10000  (99.07 %)\n",
    "epoch:  20\n",
    "Train Accuracy:  59997 / 60000  (99.99 %)\n",
    "Test Accuracy:  9913 / 10000  (99.13 %)\n"
   ]
  }
 ],
 "metadata": {
  "kernelspec": {
   "display_name": "Python [default]",
   "language": "python",
   "name": "python3"
  },
  "language_info": {
   "codemirror_mode": {
    "name": "ipython",
    "version": 3
   },
   "file_extension": ".py",
   "mimetype": "text/x-python",
   "name": "python",
   "nbconvert_exporter": "python",
   "pygments_lexer": "ipython3",
   "version": "3.6.3"
  }
 },
 "nbformat": 4,
 "nbformat_minor": 2
}
