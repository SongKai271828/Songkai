{
 "cells": [
  {
   "cell_type": "markdown",
   "metadata": {},
   "source": [
    "# Pytorch Tutorial"
   ]
  },
  {
   "cell_type": "markdown",
   "metadata": {},
   "source": [
    "Pytorch is a popular deep learning framework and it's easy to get started."
   ]
  },
  {
   "cell_type": "code",
   "execution_count": 1,
   "metadata": {},
   "outputs": [],
   "source": [
    "import torch\n",
    "import torch.nn as nn\n",
    "import torch.utils.data as data\n",
    "import torchvision\n",
    "import torchvision.transforms as transforms\n",
    "from tqdm import tqdm\n",
    "import time\n",
    "\n",
    "BATCH_SIZE = 128\n",
    "DEVICE = torch.device('cpu')\n",
    "NUM_EPOCHS = 10"
   ]
  },
  {
   "cell_type": "markdown",
   "metadata": {},
   "source": [
    "First, we read the mnist data, preprocess them and encapsulate them into dataloader form."
   ]
  },
  {
   "cell_type": "code",
   "execution_count": 2,
   "metadata": {},
   "outputs": [],
   "source": [
    "# preprocessing\n",
    "normalize = transforms.Normalize(mean=[.5], std=[.5])\n",
    "transform = transforms.Compose([transforms.ToTensor(), normalize])\n",
    "\n",
    "# download and load the data\n",
    "train_dataset = torchvision.datasets.MNIST(root='./mnist/', train=True, transform=transform, download=True)\n",
    "test_dataset = torchvision.datasets.MNIST(root='./mnist/', train=False, transform=transform, download=False)\n",
    "\n",
    "# encapsulate them into dataloader form\n",
    "train_loader = data.DataLoader(train_dataset, batch_size=BATCH_SIZE, shuffle=True, drop_last=True)\n",
    "test_loader = data.DataLoader(test_dataset, batch_size=BATCH_SIZE, shuffle=False, drop_last=True)"
   ]
  },
  {
   "cell_type": "markdown",
   "metadata": {},
   "source": [
    "Then, we define the model, object function and optimizer that we use to classify."
   ]
  },
  {
   "cell_type": "code",
   "execution_count": 3,
   "metadata": {},
   "outputs": [],
   "source": [
    "class SimpleNet(nn.Module):\n",
    "# TODO:define model\n",
    "   def __init__(self):\n",
    "       super().__init__()\n",
    "       self.conv1 = nn.Conv2d(1, 10, kernel_size=(6,6))\n",
    "       self.conv2 = nn.Conv2d(10, 20, kernel_size=(2,2))\n",
    "       self.linear1 = nn.Linear(20*10*10, 500)\n",
    "       self.linear2 = nn.Linear(500, 10)\n",
    "\n",
    "   def forward(self,batch):\n",
    "       batch_num = batch.size(0)\n",
    "       mid = self.conv1(batch)\n",
    "       mid = torch.nn.functional.relu(mid)\n",
    "       mid = torch.nn.functional.max_pool2d(mid, (2, 2))\n",
    "       mid = self.conv2(mid)\n",
    "       mid = torch.nn.functional.relu(mid)\n",
    "       mid = mid.view(batch_num, -1)\n",
    "       mid = self.linear1(mid)\n",
    "       mid = torch.nn.functional.relu(mid)\n",
    "       mid = self.linear2(mid)\n",
    "       out = torch.nn.functional.log_softmax(mid, dim=1)\n",
    "       return out\n",
    "\n",
    "model = SimpleNet()\n",
    "\n",
    "# TODO:define loss function and optimiter\n",
    "criterion = torch.nn.functional.nll_loss\n",
    "optimizer = torch.optim.Adam(model.parameters())"
   ]
  },
  {
   "cell_type": "markdown",
   "metadata": {},
   "source": [
    "Next, we can start to train and evaluate!"
   ]
  },
  {
   "cell_type": "code",
   "execution_count": 4,
   "metadata": {
    "scrolled": false
   },
   "outputs": [
    {
     "name": "stdout",
     "output_type": "stream",
     "text": [
      "epoch:  1\n",
      "Train Accuracy: 58597/60000(97.66%)\n",
      "Test  Accuracy: 9769/10000(97.69%)\n",
      "epoch:  2\n",
      "Train Accuracy: 59201/60000(98.67%)\n",
      "Test  Accuracy: 9838/10000(98.38%)\n",
      "epoch:  3\n",
      "Train Accuracy: 59501/60000(99.17%)\n",
      "Test  Accuracy: 9863/10000(98.63%)\n",
      "epoch:  4\n",
      "Train Accuracy: 59599/60000(99.33%)\n",
      "Test  Accuracy: 9871/10000(98.71%)\n",
      "epoch:  5\n",
      "Train Accuracy: 59554/60000(99.26%)\n",
      "Test  Accuracy: 9851/10000(98.51%)\n",
      "epoch:  6\n",
      "Train Accuracy: 59722/60000(99.54%)\n",
      "Test  Accuracy: 9875/10000(98.75%)\n",
      "epoch:  7\n",
      "Train Accuracy: 59582/60000(99.3%)\n",
      "Test  Accuracy: 9860/10000(98.6%)\n",
      "epoch:  8\n",
      "Train Accuracy: 59812/60000(99.69%)\n",
      "Test  Accuracy: 9890/10000(98.9%)\n",
      "epoch:  9\n",
      "Train Accuracy: 59786/60000(99.64%)\n",
      "Test  Accuracy: 9886/10000(98.86%)\n",
      "epoch:  10\n",
      "Train Accuracy: 59762/60000(99.6%)\n",
      "Test  Accuracy: 9883/10000(98.83%)\n",
      "Training and Testing Finished!\n"
     ]
    }
   ],
   "source": [
    "# train and evaluate\n",
    "for epoch in range(NUM_EPOCHS):\n",
    "    print('epoch: ',epoch+1)\n",
    "    model.train()\n",
    "    for images, labels in train_loader:\n",
    "        # TODO:forward + backward + optimize\n",
    "        images, labels = images.to(DEVICE), labels.to(DEVICE)\n",
    "        optimizer.zero_grad()\n",
    "        output = model(images)\n",
    "        loss = criterion(output, labels)\n",
    "        loss.backward()\n",
    "        optimizer.step()\n",
    "    \n",
    "    # evaluate\n",
    "    # TODO:calculate the accuracy using traning and testing dataset\n",
    "    model.eval()\n",
    "    test_loss = 0\n",
    "    correct_num_test = 0\n",
    "    train_loss = 0\n",
    "    correct_num_train = 0\n",
    "    with torch.no_grad():\n",
    "       for images, labels in train_loader:\n",
    "           images, labels = images.to(DEVICE), labels.to(DEVICE)\n",
    "           output = model(images)\n",
    "           train_loss += torch.nn.functional.nll_loss(output, labels, reduction='sum').item()\n",
    "           pred = output.max(1, keepdim=True)[1]\n",
    "           correct_num_train += pred.eq(labels.view_as(pred)).sum().item()\n",
    "    train_loss /= len(test_loader.dataset)\n",
    "    correct_rate = 100. * correct_num_train / len(train_loader.dataset)\n",
    "    print('Train Accuracy: {0}/{1}({2:.4}%)'.format(correct_num_train,len(train_loader.dataset),correct_rate))\n",
    "    \n",
    "    with torch.no_grad():\n",
    "       for images, labels in test_loader:\n",
    "           images, labels = images.to(DEVICE), labels.to(DEVICE)\n",
    "           output = model(images)\n",
    "           test_loss += torch.nn.functional.nll_loss(output, labels, reduction='sum').item()\n",
    "           pred = output.max(1, keepdim=True)[1]\n",
    "           correct_num_test += pred.eq(labels.view_as(pred)).sum().item()\n",
    "    test_loss /= len(test_loader.dataset)\n",
    "    correct_rate = 100. * correct_num_test / len(test_loader.dataset)\n",
    "    print('Test  Accuracy: {0}/{1}({2:.4}%)'.format(correct_num_test,len(test_loader.dataset),correct_rate))\n",
    "\n",
    "print('Training and Testing Finished!')"
   ]
  }
 ],
 "metadata": {
  "kernelspec": {
   "display_name": "Python 3",
   "language": "python",
   "name": "python3"
  },
  "language_info": {
   "codemirror_mode": {
    "name": "ipython",
    "version": 3
   },
   "file_extension": ".py",
   "mimetype": "text/x-python",
   "name": "python",
   "nbconvert_exporter": "python",
   "pygments_lexer": "ipython3",
   "version": "3.7.3"
  }
 },
 "nbformat": 4,
 "nbformat_minor": 2
}
